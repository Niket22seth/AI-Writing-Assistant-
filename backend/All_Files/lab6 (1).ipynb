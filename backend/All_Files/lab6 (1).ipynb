{
 "cells": [
  {
   "cell_type": "code",
   "execution_count": 1,
   "id": "145448b4-0739-49a4-8c91-3a4a59695c96",
   "metadata": {},
   "outputs": [
    {
     "name": "stdin",
     "output_type": "stream",
     "text": [
      "Enter an email address:  niks@gmail.com\n"
     ]
    },
    {
     "name": "stdout",
     "output_type": "stream",
     "text": [
      "Extracted info: ('niks', 'gmail.com')\n"
     ]
    }
   ],
   "source": [
    "#Q1\n",
    "\n",
    "import re\n",
    "\n",
    "def extract_email_info(email):\n",
    "    match = re.match(r'([^@]+)@([^@]+\\.[^@]+)', email)\n",
    "    if match:\n",
    "        username = match.group(1)\n",
    "        domain = match.group(2)\n",
    "        return (username, domain)\n",
    "    else:\n",
    "        return \"Invalid email address\"\n",
    "\n",
    "email = input(\"Enter an email address: \")\n",
    "result = extract_email_info(email)\n",
    "print(f\"Extracted info: {result}\")\n"
   ]
  },
  {
   "cell_type": "code",
   "execution_count": 3,
   "id": "ee935fc2-b623-4b94-ab04-7519e7e40d8d",
   "metadata": {},
   "outputs": [
    {
     "name": "stdout",
     "output_type": "stream",
     "text": [
      "Original list: [5, -3, 7, -1, 0, 9, -2]\n",
      "Positive numbers tuple: (5, 7, 9)\n"
     ]
    }
   ],
   "source": [
    "#Q2\n",
    "\n",
    "def filter_positive_numbers(numbers):\n",
    "    positive_numbers = tuple(num for num in numbers if num > 0)\n",
    "    return positive_numbers\n",
    "\n",
    "numbers = [5, -3, 7, -1, 0, 9, -2]\n",
    "result = filter_positive_numbers(numbers)\n",
    "print(f\"Original list: {numbers}\")\n",
    "print(f\"Positive numbers tuple: {result}\")\n"
   ]
  },
  {
   "cell_type": "code",
   "execution_count": 8,
   "id": "4af43769-0da9-4ce9-ac78-b80b0dd63a7f",
   "metadata": {},
   "outputs": [
    {
     "name": "stdout",
     "output_type": "stream",
     "text": [
      "Prime Numbers: {2, 3, 5, 7, 11, 13, 17, 19, 23, 29}\n",
      "Odd Numbers: {1, 3, 5, 7, 9, 11, 13, 15, 17, 19, 21, 23, 25, 27, 29}\n",
      "Union of Prime and Odd Numbers: {1, 2, 3, 5, 7, 9, 11, 13, 15, 17, 19, 21, 23, 25, 27, 29}\n",
      "Intersection of Prime and Odd Numbers: {3, 5, 7, 11, 13, 17, 19, 23, 29}\n",
      "Difference of Prime and Odd Numbers (Prime - Odd): {2}\n"
     ]
    }
   ],
   "source": [
    "#Q3\n",
    "\n",
    "def is_prime(n):\n",
    "    if n <= 1:\n",
    "        return False\n",
    "    for i in range(2, int(n ** 0.5) + 1):\n",
    "        if n % i == 0:\n",
    "            return False\n",
    "    return True\n",
    "\n",
    "def generate_prime_numbers(limit):\n",
    "    return {num for num in range(2, limit + 1) if is_prime(num)}\n",
    "\n",
    "def generate_odd_numbers(limit):\n",
    "    return {num for num in range(1, limit + 1, 2)}\n",
    "\n",
    "limit = 30\n",
    "\n",
    "prime_numbers = generate_prime_numbers(limit)\n",
    "odd_numbers = generate_odd_numbers(limit)\n",
    "\n",
    "union_set = prime_numbers | odd_numbers \n",
    "intersection_set = prime_numbers & odd_numbers \n",
    "difference_set = prime_numbers - odd_numbers \n",
    "\n",
    "print(f\"Prime Numbers: {prime_numbers}\")\n",
    "print(f\"Odd Numbers: {odd_numbers}\")\n",
    "print(f\"Union of Prime and Odd Numbers: {union_set}\")\n",
    "print(f\"Intersection of Prime and Odd Numbers: {intersection_set}\")\n",
    "print(f\"Difference of Prime and Odd Numbers (Prime - Odd): {difference_set}\")\n"
   ]
  },
  {
   "cell_type": "code",
   "execution_count": 10,
   "id": "3cc23330-056a-4fbe-b131-61eb07cf74c6",
   "metadata": {},
   "outputs": [
    {
     "name": "stdout",
     "output_type": "stream",
     "text": [
      "Sorted BRICS Countries: ['Brazil', 'China', 'India', 'Russia', 'South Africa']\n"
     ]
    }
   ],
   "source": [
    "#Q4\n",
    "\n",
    "brics_countries = [\"Brazil\", \"Russia\", \"India\", \"China\", \"South Africa\"]\n",
    "\n",
    "brics_set = set(brics_countries)\n",
    "\n",
    "sorted_brics = sorted(brics_set)\n",
    "\n",
    "print(\"Sorted BRICS Countries:\", sorted_brics)\n"
   ]
  },
  {
   "cell_type": "code",
   "execution_count": 12,
   "id": "584f5e32-bd0d-4987-9229-1a9a9a9a1ca9",
   "metadata": {},
   "outputs": [
    {
     "name": "stdout",
     "output_type": "stream",
     "text": [
      "Symmetric Difference: {2, 3, 4, 6, 7, 8, 9}\n"
     ]
    }
   ],
   "source": [
    "#Q5\n",
    "\n",
    "setn1 = set([1, 1, 2, 3, 4, 5])\n",
    "setn2 = set([1, 5, 6, 7, 8, 9])\n",
    "\n",
    "r1 = setn1 ^ setn2\n",
    "\n",
    "print(\"Symmetric Difference:\", r1)\n"
   ]
  },
  {
   "cell_type": "code",
   "execution_count": 16,
   "id": "36d9981d-4d17-43de-abe3-3b8ce30e3125",
   "metadata": {},
   "outputs": [
    {
     "name": "stdout",
     "output_type": "stream",
     "text": [
      "Set 1: {1, 2, 7, 8, 9, 10, 13, 15, 17, 18}\n",
      "Set 2: {4, 5, 6, 8, 9, 11, 12, 13, 14, 15}\n",
      "Numbers in Set 1 but not in Set 2: {1, 2, 7, 10, 17, 18}\n",
      "Numbers in Set 2 but not in Set 1: {4, 5, 6, 11, 12, 14}\n"
     ]
    }
   ],
   "source": [
    "#Q6\n",
    "\n",
    "import random\n",
    "setn1 = set(random.sample(range(1, 20), 10))  \n",
    "setn2 = set(random.sample(range(1, 20), 10))  \n",
    "\n",
    "missing_in_set2 = setn1 - setn2\n",
    "\n",
    "missing_in_set1 = setn2 - setn1\n",
    "\n",
    "print(f\"Set 1: {setn1}\")\n",
    "print(f\"Set 2: {setn2}\")\n",
    "print(f\"Numbers in Set 1 but not in Set 2: {missing_in_set2}\")\n",
    "print(f\"Numbers in Set 2 but not in Set 1: {missing_in_set1}\")\n"
   ]
  },
  {
   "cell_type": "code",
   "execution_count": null,
   "id": "01b8b85f-5642-4c1f-9845-e644c58288b0",
   "metadata": {},
   "outputs": [],
   "source": []
  }
 ],
 "metadata": {
  "kernelspec": {
   "display_name": "Python [conda env:base] *",
   "language": "python",
   "name": "conda-base-py"
  },
  "language_info": {
   "codemirror_mode": {
    "name": "ipython",
    "version": 3
   },
   "file_extension": ".py",
   "mimetype": "text/x-python",
   "name": "python",
   "nbconvert_exporter": "python",
   "pygments_lexer": "ipython3",
   "version": "3.12.7"
  }
 },
 "nbformat": 4,
 "nbformat_minor": 5
}
