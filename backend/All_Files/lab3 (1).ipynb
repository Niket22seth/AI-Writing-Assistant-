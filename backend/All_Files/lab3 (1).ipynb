{
 "cells": [
  {
   "cell_type": "code",
   "execution_count": 9,
   "id": "ae82e0a2-0567-4632-a002-c14701679c4c",
   "metadata": {},
   "outputs": [
    {
     "name": "stdout",
     "output_type": "stream",
     "text": [
      "{'1st_max': 80, '2nd_max': 78, '1st_min': 9, '2nd_min': 15}\n"
     ]
    }
   ],
   "source": [
    "# 1.wapp Maximum and Minimum K elements in Tuple(Find 1st maximum and 2nd maximum,also for minimum)\n",
    "\n",
    "def find_max_min_elements(tup):\n",
    "    if len(tup) < 2:\n",
    "        return \"Tuple must have at least two elements\"\n",
    "    sorted_tup = sorted(tup)\n",
    "    max1 = sorted_tup[-1]\n",
    "    max2 = sorted_tup[-2]\n",
    "    min1 = sorted_tup[0]\n",
    "    min2 = sorted_tup[1]\n",
    "    return {\n",
    "        \"1st_max\": max1,\n",
    "        \"2nd_max\": max2,\n",
    "        \"1st_min\": min1,\n",
    "        \"2nd_min\": min2\n",
    "    }\n",
    "tup = (15, 25, 50, 36, 9, 80, 78)\n",
    "result = find_max_min_elements(tup)\n",
    "print(result)\n"
   ]
  },
  {
   "cell_type": "code",
   "execution_count": 17,
   "id": "09adeb64-434e-4181-8ab3-ff9a2aa3fa08",
   "metadata": {},
   "outputs": [
    {
     "name": "stdout",
     "output_type": "stream",
     "text": [
      "[22, 17, 12]\n"
     ]
    }
   ],
   "source": [
    "# 2.wapp Row-wise element Addition in Tuple Matrix.\n",
    "\n",
    "def row_wise_addition(matrix):\n",
    "    row_sums = [sum(row) for row in matrix]\n",
    "    return row_sums\n",
    "matrix = (\n",
    "    (5, 7, 10),\n",
    "    (6, 8, 3),\n",
    "    (1, 2, 9)\n",
    ")\n",
    "\n",
    "result = row_wise_addition(matrix)\n",
    "print(result)\n"
   ]
  },
  {
   "cell_type": "code",
   "execution_count": 29,
   "id": "86cac719-b9fb-49af-94fd-ad62e6dcd953",
   "metadata": {},
   "outputs": [
    {
     "name": "stdout",
     "output_type": "stream",
     "text": [
      "element frequency: Counter({4: 3, 1: 2, 2: 2, 3: 2, 5: 2})\n"
     ]
    }
   ],
   "source": [
    "# 3.Python Elements frequency in Tuple.\n",
    "\n",
    "from collections import Counter\n",
    "\n",
    "def element_frequency(tup):\n",
    "    return Counter(tup)\n",
    "\n",
    "tup = (1,2,2,3,4,3,5,5,4,4,1)\n",
    "freq = element_frequency(tup)\n",
    "print(\"element frequency:\", freq)\n",
    "    "
   ]
  },
  {
   "cell_type": "code",
   "execution_count": 67,
   "id": "f694d3f9-5ecb-4d3c-9327-05e06d397ece",
   "metadata": {},
   "outputs": [
    {
     "name": "stdout",
     "output_type": "stream",
     "text": [
      "[(1, 6), (1, 7), (1, 8), (1, 9), (1, 10), (2, 6), (2, 7), (2, 8), (2, 9), (2, 10), (3, 6), (3, 7), (3, 8), (3, 9), (3, 10), (4, 6), (4, 7), (4, 8), (4, 9), (4, 10), (5, 6), (5, 7), (5, 8), (5, 9), (5, 10)]\n"
     ]
    }
   ],
   "source": [
    "# 4.wapp All pair combinations of 2 tuples\n",
    "\n",
    "import itertools\n",
    "\n",
    "tup1 = (1,2,3,4,5)\n",
    "tup2 = (6,7,8,9,10)\n",
    "\n",
    "pairs = list(itertools.product(tup1, tup2))\n",
    "print(pairs)\n"
   ]
  },
  {
   "cell_type": "code",
   "execution_count": 119,
   "id": "d7af1f9e-3f25-4a87-abef-e4c220dd72e1",
   "metadata": {},
   "outputs": [
    {
     "name": "stdout",
     "output_type": "stream",
     "text": [
      "True\n",
      "False\n"
     ]
    }
   ],
   "source": [
    "# 5.wapp  Test if tuple is distinct.true or false.\n",
    "\n",
    "def is_distinct(t):\n",
    "    return len(t) == len(set(t))\n",
    "\n",
    "tuple1 = (1,2,3,4)\n",
    "tuple2 = (1,2,5,6,2)\n",
    "\n",
    "print(is_distinct(tuple1))  \n",
    "print(is_distinct(tuple2))\n"
   ]
  },
  {
   "cell_type": "code",
   "execution_count": 79,
   "id": "070f167f-4209-4939-8679-5dccbd48e26f",
   "metadata": {},
   "outputs": [
    {
     "name": "stdout",
     "output_type": "stream",
     "text": [
      "[7, 8, 10, 11]\n",
      "[11, 10, 8, 7]\n"
     ]
    }
   ],
   "source": [
    "# 6.Write a Python script to sort (ascending and descending) a dictionary by value.\n",
    "\n",
    "\n",
    "my_dict = {'yash': 11, 'ram': 7, 'shayam': 8,'isha' : 10}\n",
    "\n",
    "print(sorted(my_dict.values()))\n",
    "print(sorted(my_dict.values(),reverse = True))"
   ]
  },
  {
   "cell_type": "code",
   "execution_count": 91,
   "id": "061cc2b7-c3c3-4e5d-a26f-d1b8a5530d67",
   "metadata": {},
   "outputs": [
    {
     "name": "stdout",
     "output_type": "stream",
     "text": [
      "Item with maximum value: 10\n",
      "Item with minimum value: 2\n"
     ]
    }
   ],
   "source": [
    "# 7.Write a Python program to get the maximum and minimum values of a dictionary.\n",
    "\n",
    "\n",
    "my_dict = {'apple': 10, 'banana': 5, 'orange': 8, 'grape': 2}\n",
    "\n",
    "max_item = max(my_dict.values())\n",
    "min_item = min(my_dict.values())\n",
    "\n",
    "print(f\"Item with maximum value: {max_item}\")\n",
    "print(f\"Item with minimum value: {min_item}\")\n"
   ]
  },
  {
   "cell_type": "code",
   "execution_count": 111,
   "id": "ba81cc00-7304-48ee-afae-1306f5a32cf6",
   "metadata": {},
   "outputs": [
    {
     "name": "stdout",
     "output_type": "stream",
     "text": [
      "Fifth value of each key: {'x': 15, 'y': 25, 'z': 35}\n"
     ]
    }
   ],
   "source": [
    "# 8.Write a Python program to create a dictionary of keys x, y, and z where each key has as value a list from 11-20, 21-30, and 31-40 respectively.\n",
    "#Access the fifth value of each key from the dictionary.(Take value from keyboard through keyboard).\n",
    "\n",
    "x = list(range(11, 21))\n",
    "y = list(range(21, 31))\n",
    "z = list(range(31, 41))\n",
    "\n",
    "dictionary = {'x': x, 'y': y, 'z': z}\n",
    "\n",
    "dict_2 = {}\n",
    "for key, values in dictionary.items():\n",
    "    dict_2[key] = values[4]\n",
    "\n",
    "print(\"Fifth value of each key:\", dict_2)\n",
    "\n"
   ]
  },
  {
   "cell_type": "code",
   "execution_count": 115,
   "id": "aaca677a-9ea6-42cf-aa17-bfea62d94876",
   "metadata": {},
   "outputs": [
    {
     "name": "stdin",
     "output_type": "stream",
     "text": [
      "Enter marks for Subject 1:  80\n",
      "Enter marks for Subject 2:  82\n",
      "Enter marks for Subject 3:  81\n",
      "Enter marks for Subject 4:  70\n",
      "Enter marks for Subject 5:  75\n"
     ]
    },
    {
     "name": "stdout",
     "output_type": "stream",
     "text": [
      "Your average marks are: 77.60\n",
      "Your grade is: A\n"
     ]
    }
   ],
   "source": [
    "# 9.wapp Program to create grade calculator in Python.\n",
    "\n",
    "def calculate_grade():\n",
    "    \n",
    "    try:\n",
    "        marks1 = float(input(\"Enter marks for Subject 1: \"))\n",
    "        marks2 = float(input(\"Enter marks for Subject 2: \"))\n",
    "        marks3 = float(input(\"Enter marks for Subject 3: \"))\n",
    "        marks4 = float(input(\"Enter marks for Subject 4: \"))\n",
    "        marks5 = float(input(\"Enter marks for Subject 5: \"))\n",
    "\n",
    "        average_marks = (marks1 + marks2 + marks3 + marks4 + marks5) / 5\n",
    "\n",
    "        if average_marks >= 90:\n",
    "            grade = 'O'\n",
    "        elif average_marks >= 80:\n",
    "            grade = 'E'\n",
    "        elif average_marks >= 70:\n",
    "            grade = 'A'\n",
    "        elif average_marks >= 60:\n",
    "            grade = 'B'\n",
    "        else:\n",
    "            grade = 'F'\n",
    "\n",
    "        print(f\"Your average marks are: {average_marks:.2f}\")\n",
    "        print(f\"Your grade is: {grade}\")\n",
    "\n",
    "    except ValueError:\n",
    "        print(\"Invalid input! Please enter numeric values for marks.\")\n",
    "\n",
    "calculate_grade()"
   ]
  },
  {
   "cell_type": "code",
   "execution_count": 117,
   "id": "a59f0ab9-f106-4d4d-9954-a12522d587c7",
   "metadata": {},
   "outputs": [
    {
     "name": "stdout",
     "output_type": "stream",
     "text": [
      "The key with the maximum unique values is 'b' with 4 unique values.\n"
     ]
    }
   ],
   "source": [
    "# 10.wapp Key with maximum unique values.\n",
    "\n",
    "def key_with_max_unique_values(d):\n",
    "   \n",
    "    max_unique_count = 0\n",
    "    max_unique_key = None\n",
    "\n",
    "    for key, values in d.items():\n",
    "        \n",
    "        unique_values = set(values)\n",
    "        unique_count = len(unique_values)\n",
    "        \n",
    "        \n",
    "        if unique_count > max_unique_count:\n",
    "            max_unique_count = unique_count\n",
    "            max_unique_key = key\n",
    "\n",
    "    return max_unique_key, max_unique_count\n",
    "\n",
    "my_dict = {\n",
    "    'a': [1, 2, 2, 3],\n",
    "    'b': [4, 5, 5, 6, 7],\n",
    "    'c': [8, 8, 9, 9],\n",
    "}\n",
    "\n",
    "key, count = key_with_max_unique_values(my_dict)\n",
    "print(f\"The key with the maximum unique values is '{key}' with {count} unique values.\")"
   ]
  },
  {
   "cell_type": "code",
   "execution_count": null,
   "id": "56cd8736-0575-4964-bde7-1062288c666e",
   "metadata": {},
   "outputs": [],
   "source": []
  }
 ],
 "metadata": {
  "kernelspec": {
   "display_name": "Python [conda env:base] *",
   "language": "python",
   "name": "conda-base-py"
  },
  "language_info": {
   "codemirror_mode": {
    "name": "ipython",
    "version": 3
   },
   "file_extension": ".py",
   "mimetype": "text/x-python",
   "name": "python",
   "nbconvert_exporter": "python",
   "pygments_lexer": "ipython3",
   "version": "3.12.7"
  }
 },
 "nbformat": 4,
 "nbformat_minor": 5
}
