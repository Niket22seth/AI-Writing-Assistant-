{
 "cells": [
  {
   "cell_type": "code",
   "execution_count": 5,
   "id": "fefcb1b8-ce94-4ab3-92a1-351ff2ac2d38",
   "metadata": {},
   "outputs": [
    {
     "name": "stdout",
     "output_type": "stream",
     "text": [
      "Inititalized var:  20\n",
      "Initialized var b:  22.5\n",
      "Initialized var c:  ram\n"
     ]
    }
   ],
   "source": [
    "a = 20\n",
    "print(\"Inititalized var: \",  a)\n",
    "del a\n",
    "b = 22.5\n",
    "c = 'ram'\n",
    "print(\"Initialized var b: \", b)\n",
    "print(\"Initialized var c: \", c)\n",
    "del b\n",
    "del c"
   ]
  },
  {
   "cell_type": "code",
   "execution_count": 74,
   "id": "7673222b-93e9-4ea1-ba54-f87635a44d58",
   "metadata": {},
   "outputs": [
    {
     "name": "stdout",
     "output_type": "stream",
     "text": [
      "a <class 'int'>\n",
      "b <class 'str'>\n",
      "c <class 'float'>\n"
     ]
    }
   ],
   "source": [
    "a=21\n",
    "b=\"niket\"\n",
    "c=22.5\n",
    "print(\"a\", type(a))\n",
    "print(\"b\", type(b))\n",
    "print(\"c\", type(c))"
   ]
  },
  {
   "cell_type": "code",
   "execution_count": 72,
   "id": "bd7be4cb-d5e8-4aee-b065-408e70f61412",
   "metadata": {},
   "outputs": [
    {
     "name": "stdout",
     "output_type": "stream",
     "text": [
      "RollNumber  398\n",
      "Name  Niket\n",
      "Branch  IT\n"
     ]
    }
   ],
   "source": [
    "RollNumber = 398\n",
    "Name = \"Niket\"\n",
    "Branch = \"IT\"\n",
    "print(\"RollNumber \" , RollNumber)\n",
    "print(\"Name \" , Name)\n",
    "print(\"Branch \" , Branch)"
   ]
  },
  {
   "cell_type": "code",
   "execution_count": 9,
   "id": "030fc9e7-753d-4b40-8480-1ca649e2140b",
   "metadata": {},
   "outputs": [
    {
     "name": "stdout",
     "output_type": "stream",
     "text": [
      "15\n",
      "50\n",
      "-5\n",
      "0.5\n"
     ]
    }
   ],
   "source": [
    "a=5\n",
    "b=10\n",
    "print(a+b)\n",
    "print(a*b)\n",
    "print(a-b)\n",
    "print(a/b)"
   ]
  },
  {
   "cell_type": "code",
   "execution_count": 23,
   "id": "8e96e745-78ec-47cb-a741-bc0c33803a06",
   "metadata": {},
   "outputs": [
    {
     "name": "stdin",
     "output_type": "stream",
     "text": [
      "enter the first number:  33.67\n",
      "enter the second number:  21.86\n",
      "enter the third number:  22.0\n"
     ]
    },
    {
     "name": "stdout",
     "output_type": "stream",
     "text": [
      " the sum of 33.67 ,21.86, 22.0 is: 77.53 \n"
     ]
    }
   ],
   "source": [
    "num1=float(input(\"enter the first number: \"))\n",
    "num2=float(input(\"enter the second number: \"))\n",
    "num3=float(input(\"enter the third number: \"))\n",
    "sum = num1 + num2 + num3\n",
    "print(f\" the sum of {num1} ,{num2}, {num3} is: {sum} \")"
   ]
  },
  {
   "cell_type": "code",
   "execution_count": 25,
   "id": "add414cb-484d-4673-970f-4235151008d6",
   "metadata": {},
   "outputs": [
    {
     "name": "stdin",
     "output_type": "stream",
     "text": [
      "enter the radius:  3\n"
     ]
    },
    {
     "name": "stdout",
     "output_type": "stream",
     "text": [
      " area = 28.259999999999998, c= 18.84 \n"
     ]
    }
   ],
   "source": [
    "r=float(input(\"enter the radius: \"))\n",
    "area =3.14*r*r\n",
    "c= 2*3.14*r\n",
    "print(f\" area = {area}, c= {c} \")"
   ]
  },
  {
   "cell_type": "code",
   "execution_count": 36,
   "id": "762af524-ba21-4980-a21e-619922dd5ba0",
   "metadata": {},
   "outputs": [
    {
     "name": "stdin",
     "output_type": "stream",
     "text": [
      "Enter the principal amount (P):  34\n",
      "Enter the time in years (T):  2\n",
      "Enter the annual interest rate (R) in percentage:  1\n"
     ]
    },
    {
     "name": "stdout",
     "output_type": "stream",
     "text": [
      "0.6833999999999989\n"
     ]
    }
   ],
   "source": [
    "P = float(input(\"Enter the principal amount (P): \"))\n",
    "T = float(input(\"Enter the time in years (T): \"))\n",
    "R = float(input(\"Enter the annual interest rate (R) in percentage: \"))\n",
    "\n",
    "A = P * (1 + R / 100) ** T \n",
    "ci = A-P\n",
    "print(f\"{ci}\")"
   ]
  },
  {
   "cell_type": "code",
   "execution_count": 54,
   "id": "05da5cbe-3611-4271-8a0e-81406e8a806e",
   "metadata": {},
   "outputs": [
    {
     "name": "stdin",
     "output_type": "stream",
     "text": [
      " enter the 1st number to be swap 35\n",
      " enter the 2nd number to be swap 56\n"
     ]
    },
    {
     "name": "stdout",
     "output_type": "stream",
     "text": [
      "after swapping:\n",
      "num1 56.0\n",
      "num2 35.0\n"
     ]
    }
   ],
   "source": [
    "a = float(input(\" enter the 1st number to be swap\"))\n",
    "b = float(input(\" enter the 2nd number to be swap\"))\n",
    "a,b = b,a\n",
    "print(\"after swapping:\")\n",
    "print(\"num1\", a )\n",
    "print(\"num2\" ,b )"
   ]
  },
  {
   "cell_type": "code",
   "execution_count": 56,
   "id": "1a8a5f86-11e5-4980-82d0-c2189029fe81",
   "metadata": {},
   "outputs": [
    {
     "name": "stdin",
     "output_type": "stream",
     "text": [
      "Enter the first number:  2\n",
      "Enter the second number:  5\n"
     ]
    },
    {
     "name": "stdout",
     "output_type": "stream",
     "text": [
      "Is num1 equal to num2?  False\n",
      "Is num1 not equal to num2?  True\n",
      "Is num1 greater than num2?  False\n",
      "Is num1 less than num2?  True\n",
      "Is num1 greater than or equal to num2?  False\n",
      "Is num1 less than or equal to num2?  True\n"
     ]
    }
   ],
   "source": [
    "num1 = float(input(\"Enter the first number: \"))\n",
    "num2 = float(input(\"Enter the second number: \"))\n",
    "\n",
    "print(\"Is num1 equal to num2? \", num1 == num2)\n",
    "print(\"Is num1 not equal to num2? \", num1 != num2)\n",
    "print(\"Is num1 greater than num2? \", num1 > num2)\n",
    "print(\"Is num1 less than num2? \", num1 < num2)\n",
    "print(\"Is num1 greater than or equal to num2? \", num1 >= num2)\n",
    "print(\"Is num1 less than or equal to num2? \", num1 <= num2)"
   ]
  },
  {
   "cell_type": "code",
   "execution_count": 62,
   "id": "8e432d91-9bf1-4743-a15c-09d65b1d2cc0",
   "metadata": {},
   "outputs": [
    {
     "name": "stdin",
     "output_type": "stream",
     "text": [
      "Enter the amount in paisa:  2344\n"
     ]
    },
    {
     "name": "stdout",
     "output_type": "stream",
     "text": [
      "2344 paisa = 23 Rupee and 44 paisa\n"
     ]
    }
   ],
   "source": [
    "paisa = int(input(\"Enter the amount in paisa: \"))\n",
    "\n",
    "rupees = paisa // 100  \n",
    "remaining_paisa = paisa % 100  \n",
    "\n",
    "print(f\"{paisa} paisa = {rupees} Rupee and {remaining_paisa} paisa\")"
   ]
  },
  {
   "cell_type": "code",
   "execution_count": 68,
   "id": "8d09bc12-87c5-418a-9478-73aaa532b2d6",
   "metadata": {},
   "outputs": [
    {
     "name": "stdin",
     "output_type": "stream",
     "text": [
      "Enter the number of seconds:  3856\n"
     ]
    },
    {
     "name": "stdout",
     "output_type": "stream",
     "text": [
      "3856 seconds = 1 Hour, 4 Minute and 16 Second\n"
     ]
    }
   ],
   "source": [
    "seconds = int(input(\"Enter the number of seconds: \"))\n",
    "\n",
    "hours = seconds // 3600  \n",
    "minutes = (seconds % 3600) // 60  \n",
    "remaining_seconds = seconds % 60  \n",
    "\n",
    "print(f\"{seconds} seconds = {hours} Hour, {minutes} Minute and {remaining_seconds} Second\")"
   ]
  },
  {
   "cell_type": "code",
   "execution_count": 70,
   "id": "f1d35d94-3d5e-4b63-bf2e-3f0be1acdce8",
   "metadata": {},
   "outputs": [
    {
     "name": "stdin",
     "output_type": "stream",
     "text": [
      "Enter the quantity in meters:  1500\n"
     ]
    },
    {
     "name": "stdout",
     "output_type": "stream",
     "text": [
      "1500 meter = 1 Km and 500 meter\n"
     ]
    }
   ],
   "source": [
    "meters = int(input(\"Enter the quantity in meters: \"))\n",
    "\n",
    "kilometers = meters // 1000  \n",
    "remaining_meters = meters % 1000  \n",
    "\n",
    "print(f\"{meters} meter = {kilometers} Km and {remaining_meters} meter\")"
   ]
  },
  {
   "cell_type": "code",
   "execution_count": 84,
   "id": "4446df89-43bc-4064-b310-3ce0b3a59f5b",
   "metadata": {},
   "outputs": [
    {
     "name": "stdin",
     "output_type": "stream",
     "text": [
      "Enter the amount to be withdrawn in hundreds:  780\n"
     ]
    },
    {
     "name": "stdout",
     "output_type": "stream",
     "text": [
      "Number of 100 denomination notes: 7\n",
      "Number of 50 denomination notes: 1\n",
      "Number of 10 denomination notes: 3\n"
     ]
    },
    {
     "name": "stdin",
     "output_type": "stream",
     "text": [
      "Enter Ramesh's basic salary:  530\n"
     ]
    },
    {
     "name": "stdout",
     "output_type": "stream",
     "text": [
      "Ramesh's gross salary is: 848.0\n"
     ]
    }
   ],
   "source": [
    "amount = int(input(\"Enter the amount to be withdrawn in hundreds: \"))\n",
    "\n",
    "hundred_notes = amount//100\n",
    "fifty_notes = (amount%100)//50  \n",
    "remaining=amount%100\n",
    "ten_notes = (remaining%50)//10  \n",
    "print(f\"Number of 100 denomination notes: {hundred_notes}\")\n",
    "print(f\"Number of 50 denomination notes: {fifty_notes}\")\n",
    "print(f\"Number of 10 denomination notes: {ten_notes}\")\n",
    "basic_salary = float(input(\"Enter Ramesh's basic salary: \"))\n",
    "dearness_allowance = (40 / 100) * basic_salary\n",
    "house_rent_allowance = (20 / 100) * basic_salary\n",
    "gross_salary = basic_salary + dearness_allowance + house_rent_allowance #gross\n",
    "print(f\"Ramesh's gross salary is: {gross_salary}\")"
   ]
  },
  {
   "cell_type": "code",
   "execution_count": null,
   "id": "ce8c40f3-6118-4906-9d37-9de990d61e1c",
   "metadata": {},
   "outputs": [],
   "source": []
  }
 ],
 "metadata": {
  "kernelspec": {
   "display_name": "Python [conda env:base] *",
   "language": "python",
   "name": "conda-base-py"
  },
  "language_info": {
   "codemirror_mode": {
    "name": "ipython",
    "version": 3
   },
   "file_extension": ".py",
   "mimetype": "text/x-python",
   "name": "python",
   "nbconvert_exporter": "python",
   "pygments_lexer": "ipython3",
   "version": "3.12.7"
  }
 },
 "nbformat": 4,
 "nbformat_minor": 5
}
