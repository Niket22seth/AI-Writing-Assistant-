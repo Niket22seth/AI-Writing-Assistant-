{
 "cells": [
  {
   "cell_type": "code",
   "execution_count": 1,
   "id": "229cb1ba-fb0b-41d7-9528-6f57fd83ed37",
   "metadata": {},
   "outputs": [
    {
     "name": "stdout",
     "output_type": "stream",
     "text": [
      "Unsorted list: [2, 23, 10, 1, 78, 45, 65]\n",
      "Sorted list: [1, 2, 10, 23, 45, 65, 78]\n"
     ]
    }
   ],
   "source": [
    "#Q1:- Write a Python program to sort a list of elements using the bubble sort algorithm. Input: Sequence: 2, 23, 10, 1, 78, 45, 65\n",
    "\n",
    "def bubble_sort(arr):\n",
    "    n = len(arr)\n",
    "    for i in range(n):\n",
    "        swapped = False\n",
    "        for j in range(0, n - i - 1):\n",
    "            if arr[j] > arr[j + 1]:\n",
    "                arr[j], arr[j + 1] = arr[j + 1], arr[j] \n",
    "                swapped = True\n",
    "        if not swapped:\n",
    "            break  \n",
    "\n",
    "sequence = [2, 23, 10, 1, 78, 45, 65]\n",
    "print(\"Unsorted list:\", sequence)\n",
    "\n",
    "bubble_sort(sequence)\n",
    "print(\"Sorted list:\", sequence)"
   ]
  },
  {
   "cell_type": "code",
   "execution_count": 2,
   "id": "e87d63a2-d6ad-48cb-a816-4ec50d1de1cc",
   "metadata": {},
   "outputs": [
    {
     "name": "stdout",
     "output_type": "stream",
     "text": [
      "Sorted array: [5, 6, 7, 11, 12, 13]\n"
     ]
    }
   ],
   "source": [
    "#Q2\n",
    "\n",
    "def heapify(arr, n, i):\n",
    "    largest = i  \n",
    "    left = 2 * i + 1  \n",
    "    right = 2 * i + 2 \n",
    "\n",
    "    if left < n and arr[left] > arr[largest]:\n",
    "        largest = left\n",
    "\n",
    "    if right < n and arr[right] > arr[largest]:\n",
    "        largest = right\n",
    "\n",
    "    if largest != i:\n",
    "        arr[i], arr[largest] = arr[largest], arr[i] \n",
    "        heapify(arr, n, largest)  \n",
    "\n",
    "def heap_sort(arr):\n",
    "    n = len(arr)\n",
    "\n",
    "    for i in range(n // 2 - 1, -1, -1):\n",
    "        heapify(arr, n, i)\n",
    "\n",
    "    for i in range(n - 1, 0, -1):\n",
    "        arr[i], arr[0] = arr[0], arr[i]  \n",
    "        heapify(arr, i, 0)  \n",
    "\n",
    "arr = [12, 11, 13, 5, 6, 7]\n",
    "heap_sort(arr)\n",
    "print(\"Sorted array:\", arr)"
   ]
  },
  {
   "cell_type": "code",
   "execution_count": 5,
   "id": "70f2eb9a-4e08-4195-9a21-991e6ec186e6",
   "metadata": {},
   "outputs": [
    {
     "name": "stdout",
     "output_type": "stream",
     "text": [
      "Unsorted list: [2, 23, 10, 1, 78, 45, 65]\n",
      "Sorted list: [1, 2, 10, 23, 45, 65, 78]\n"
     ]
    }
   ],
   "source": [
    "#Q3 \n",
    "\n",
    "def quick_sort(arr):\n",
    "    if len(arr) <= 1:\n",
    "        return arr\n",
    "    pivot = arr[len(arr) // 2]\n",
    "    left = [x for x in arr if x < pivot]\n",
    "    middle = [x for x in arr if x == pivot]\n",
    "    right = [x for x in arr if x > pivot]\n",
    "    return quick_sort(left) + middle + quick_sort(right)\n",
    "\n",
    "sequence = [2, 23, 10, 1, 78, 45, 65]\n",
    "print(\"Unsorted list:\", sequence)\n",
    "\n",
    "sorted_sequence = quick_sort(sequence)\n",
    "print(\"Sorted list:\", sorted_sequence)\n"
   ]
  },
  {
   "cell_type": "code",
   "execution_count": 9,
   "id": "1e29ee35-4318-4fd4-8413-62f688ca74c4",
   "metadata": {},
   "outputs": [
    {
     "name": "stdout",
     "output_type": "stream",
     "text": [
      "Unsorted list: [2, 23, 10, 1, 78, 45, 65]\n",
      "Sorted list: [1, 2, 10, 23, 45, 65, 78]\n"
     ]
    }
   ],
   "source": [
    "#Q4\n",
    "\n",
    "def merge_sort(arr):\n",
    "    if len(arr) > 1:\n",
    "        mid = len(arr) // 2\n",
    "        left_half = arr[:mid]\n",
    "        right_half = arr[mid:]\n",
    "\n",
    "        merge_sort(left_half)\n",
    "        merge_sort(right_half)\n",
    "\n",
    "        i = j = k = 0\n",
    "\n",
    "        while i < len(left_half) and j < len(right_half):\n",
    "            if left_half[i] < right_half[j]:\n",
    "                arr[k] = left_half[i]\n",
    "                i += 1\n",
    "            else:\n",
    "                arr[k] = right_half[j]\n",
    "                j += 1\n",
    "            k += 1\n",
    "\n",
    "        while i < len(left_half):\n",
    "            arr[k] = left_half[i]\n",
    "            i += 1\n",
    "            k += 1\n",
    "\n",
    "        while j < len(right_half):\n",
    "            arr[k] = right_half[j]\n",
    "            j += 1\n",
    "            k += 1\n",
    "\n",
    "sequence = [2, 23, 10, 1, 78, 45, 65]\n",
    "print(\"Unsorted list:\", sequence)\n",
    "\n",
    "merge_sort(sequence)\n",
    "print(\"Sorted list:\", sequence)\n"
   ]
  },
  {
   "cell_type": "code",
   "execution_count": 11,
   "id": "9f54c8cf-7c47-445f-8a11-a242892c6f21",
   "metadata": {},
   "outputs": [
    {
     "name": "stdout",
     "output_type": "stream",
     "text": [
      "Unsorted list: [2, 23, 10, 1, 78, 45, 65]\n",
      "Sorted list: [1, 2, 10, 23, 45, 65, 78]\n"
     ]
    }
   ],
   "source": [
    "#Q5\n",
    "\n",
    "def insertion_sort(arr):\n",
    "    for i in range(1, len(arr)):\n",
    "        key = arr[i]\n",
    "        j = i - 1\n",
    "        while j >= 0 and key < arr[j]:\n",
    "            arr[j + 1] = arr[j]\n",
    "            j -= 1\n",
    "        arr[j + 1] = key\n",
    "\n",
    "sequence = [2, 23, 10, 1, 78, 45, 65]\n",
    "print(\"Unsorted list:\", sequence)\n",
    "\n",
    "insertion_sort(sequence)\n",
    "print(\"Sorted list:\", sequence)\n"
   ]
  },
  {
   "cell_type": "code",
   "execution_count": 13,
   "id": "cd31e021-5d6a-4959-941b-7c91dd5cf231",
   "metadata": {},
   "outputs": [
    {
     "name": "stdout",
     "output_type": "stream",
     "text": [
      "Unsorted list: [2, 23, 10, 1, 78, 45, 65]\n",
      "Sorted list: [1, 2, 10, 23, 45, 65, 78]\n"
     ]
    }
   ],
   "source": [
    "#Q6\n",
    "\n",
    "def selection_sort(arr):\n",
    "    n = len(arr)\n",
    "    for i in range(n):\n",
    "        min_index = i\n",
    "        for j in range(i + 1, n):\n",
    "            if arr[j] < arr[min_index]:\n",
    "                min_index = j\n",
    "        arr[i], arr[min_index] = arr[min_index], arr[i]\n",
    "\n",
    "sequence = [2, 23, 10, 1, 78, 45, 65]\n",
    "print(\"Unsorted list:\", sequence)\n",
    "\n",
    "selection_sort(sequence)\n",
    "print(\"Sorted list:\", sequence)\n"
   ]
  },
  {
   "cell_type": "code",
   "execution_count": null,
   "id": "b8454cc9-377e-4269-a939-984aab9266af",
   "metadata": {},
   "outputs": [],
   "source": []
  }
 ],
 "metadata": {
  "kernelspec": {
   "display_name": "Python [conda env:base] *",
   "language": "python",
   "name": "conda-base-py"
  },
  "language_info": {
   "codemirror_mode": {
    "name": "ipython",
    "version": 3
   },
   "file_extension": ".py",
   "mimetype": "text/x-python",
   "name": "python",
   "nbconvert_exporter": "python",
   "pygments_lexer": "ipython3",
   "version": "3.12.7"
  }
 },
 "nbformat": 4,
 "nbformat_minor": 5
}
