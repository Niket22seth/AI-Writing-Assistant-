{
 "cells": [
  {
   "cell_type": "code",
   "execution_count": 60,
   "id": "83800da5-1d70-45d2-8b3d-46f8df5d4227",
   "metadata": {},
   "outputs": [
    {
     "name": "stdout",
     "output_type": "stream",
     "text": [
      "max_value:  98\n",
      "min_value:  12\n",
      "sum:  409\n",
      "length of my_list1:  10\n",
      "join_list:  [20, 34, 56, 12, 23, 98, 67, 56, 22, 21, 35, 21, 12, 87, 67, 56, 99, 25, 65]\n",
      "Repeat element 10 five times: [20, 34, 56, 12, 23, 98, 67, 56, 22, 21, 10, 10, 10, 10, 10]\n",
      "is 22 present in the list:  True\n",
      "Converted tuple to list: [1, 2, 3]\n",
      "Converted set to list: [4, 5, 6]\n",
      "Converted string to list: ['h', 'e', 'l', 'l', 'o']\n",
      "Sorted list: [12, 20, 21, 22, 23, 34, 56, 56, 67, 98]\n"
     ]
    }
   ],
   "source": [
    "# Question\n",
    "\n",
    "def find_max(my_list1):\n",
    "    return max(my_list1)\n",
    "\n",
    "def find_min(my_list1):\n",
    "    return min(my_list1)\n",
    "\n",
    "def find_sum(my_list1):\n",
    "    return sum(my_list1)\n",
    "\n",
    "def find_length(my_list1):\n",
    "    return length(my_list1)\n",
    "\n",
    "def join_list(my_list1,my_list2):\n",
    "    return my_list1 + my_list2\n",
    "\n",
    "def repeat_element(my_list1,element,n):\n",
    "    return my_list1 + [element]*n\n",
    "\n",
    "def check_value(my_list1,value):\n",
    "    return value in my_list1\n",
    "\n",
    "def convert_to_list(obj):\n",
    "    return list(obj)\n",
    "\n",
    "def sort_list(my_list1):\n",
    "    return sorted(my_list1)\n",
    "\n",
    "my_list1 = [20,34,56,12,23,98,67,56,22,21]\n",
    "\n",
    "\n",
    "print(\"max_value: \", find_max(my_list1))\n",
    "\n",
    "print(\"min_value: \", find_min(my_list1))\n",
    "\n",
    "print(\"sum: \", sum(my_list1))\n",
    "\n",
    "print(\"length of my_list1: \", len(my_list1))\n",
    "\n",
    "my_list2 = [35,21,12,87,67,56,99,25,65]\n",
    "\n",
    "print(\"join_list: \", my_list1 + my_list2)\n",
    "\n",
    "#print(\"Repeat_element: \", (my_list1))\n",
    "print(\"Repeat element 10 five times:\", repeat_element(my_list1, 10, 5))\n",
    "\n",
    "print(\"is 22 present in the list: \", check_value(my_list1,22))\n",
    "\n",
    "tuple_data = (1, 2, 3)\n",
    "set_data = {4, 5, 6}\n",
    "string_data = \"hello\"\n",
    "print(\"Converted tuple to list:\", convert_to_list(tuple_data))\n",
    "print(\"Converted set to list:\", convert_to_list(set_data))\n",
    "print(\"Converted string to list:\", convert_to_list(string_data))\n",
    "\n",
    "\n",
    "print(\"Sorted list:\",sort_list(my_list1))"
   ]
  },
  {
   "cell_type": "code",
   "execution_count": 98,
   "id": "3abe42c8-66dd-43f3-86d4-4786c00c8af3",
   "metadata": {},
   "outputs": [
    {
     "name": "stdout",
     "output_type": "stream",
     "text": [
      "Original list: [10, 20, 37, 75, 45, 44, 22, 10, 20, 22]\n",
      "Length of the list: 10\n",
      "Duplicate elements in the list: [10, 20, 22]\n",
      "Reversed list: [22, 20, 10, 22, 44, 45, 75, 37, 20, 10]\n"
     ]
    }
   ],
   "source": [
    "# Q1\n",
    "\n",
    "my_list = [10,20,37,75,45,44,22,10,20,22]\n",
    "print(\"Original list:\", my_list)\n",
    "\n",
    "length = len(my_list)\n",
    "print(\"Length of the list:\", length)\n",
    "\n",
    "duplicates = [item for item in set(my_list) if my_list.count(item) > 1]\n",
    "print(\"Duplicate elements in the list:\", duplicates)\n",
    "\n",
    "my_list.reverse()\n",
    "print(\"Reversed list:\", my_list)"
   ]
  },
  {
   "cell_type": "code",
   "execution_count": 94,
   "id": "0613ef05-3255-4cfb-a792-4421176cd27d",
   "metadata": {},
   "outputs": [
    {
     "name": "stdout",
     "output_type": "stream",
     "text": [
      "Concatenated list index-wise: ['ironman', 'superman', 'Hanuman']\n"
     ]
    }
   ],
   "source": [
    "# Q2\n",
    "\n",
    "list1 = ['iron', 'super', 'Hanu']\n",
    "list2 = ['man', 'man', 'man']\n",
    "\n",
    "concatenated_list = [a + b for a, b in zip(list1, list2)]\n",
    "print(\"Concatenated list index-wise:\", concatenated_list)\n",
    "\n"
   ]
  },
  {
   "cell_type": "code",
   "execution_count": 92,
   "id": "88ca9912-11e2-4a7c-9706-26ca10a165bf",
   "metadata": {},
   "outputs": [
    {
     "name": "stdout",
     "output_type": "stream",
     "text": [
      "List with squared elements: [1, 4, 9, 16, 25]\n"
     ]
    }
   ],
   "source": [
    "# Q3\n",
    "\n",
    "def square_elements(lst):\n",
    "    return [x ** 2 for x in lst]\n",
    "\n",
    "lst = [1, 2, 3, 4, 5]\n",
    "\n",
    "squared_list = square_elements(lst)\n",
    "print(\"List with squared elements:\", squared_list)\n"
   ]
  },
  {
   "cell_type": "code",
   "execution_count": 90,
   "id": "5dcc51dd-c730-46c3-97b0-4410baa4fef1",
   "metadata": {},
   "outputs": [
    {
     "name": "stdout",
     "output_type": "stream",
     "text": [
      "Extended nested list: [[1, 2], [3, 4], [5, 6], 7, 8]\n"
     ]
    }
   ],
   "source": [
    "#4\n",
    "\n",
    "def extend_nested_list(nested_lst, sublist):\n",
    "    nested_lst.extend(sublist)\n",
    "    return nested_lst\n",
    "\n",
    "nested_lst = [[1, 2], [3, 4], [5, 6]]\n",
    "sublist_to_add = [7, 8]\n",
    "\n",
    "extended_list = extend_nested_list(nested_lst, sublist_to_add)\n",
    "print(\"Extended nested list:\", extended_list)"
   ]
  },
  {
   "cell_type": "code",
   "execution_count": 86,
   "id": "8fa2304e-fac0-460a-956f-559a08a4a319",
   "metadata": {},
   "outputs": [
    {
     "name": "stdout",
     "output_type": "stream",
     "text": [
      "List after removing all occurrences of 5 : [1, 3, 2, 4, 6]\n"
     ]
    }
   ],
   "source": [
    "# Q5\n",
    "\n",
    "my_list = [1, 5, 3, 2, 4, 5, 6, 5]\n",
    "\n",
    "item_to_remove = 5\n",
    "\n",
    "filtered_list = [x for x in my_list if x != item_to_remove]\n",
    "print(\"List after removing all occurrences of\", item_to_remove, \":\",filtered_list)"
   ]
  },
  {
   "cell_type": "code",
   "execution_count": null,
   "id": "14f4e3b6-f171-4812-b6fb-dac11e8dea7c",
   "metadata": {},
   "outputs": [],
   "source": []
  }
 ],
 "metadata": {
  "kernelspec": {
   "display_name": "Python [conda env:base] *",
   "language": "python",
   "name": "conda-base-py"
  },
  "language_info": {
   "codemirror_mode": {
    "name": "ipython",
    "version": 3
   },
   "file_extension": ".py",
   "mimetype": "text/x-python",
   "name": "python",
   "nbconvert_exporter": "python",
   "pygments_lexer": "ipython3",
   "version": "3.12.7"
  }
 },
 "nbformat": 4,
 "nbformat_minor": 5
}
