{
 "cells": [
  {
   "cell_type": "code",
   "execution_count": 1,
   "id": "3e4c0be7-84b9-412e-be7b-e63ea94692a8",
   "metadata": {},
   "outputs": [
    {
     "name": "stdout",
     "output_type": "stream",
     "text": [
      "[4, 8, 12, 16, 20]\n"
     ]
    }
   ],
   "source": [
    "#Q1\n",
    "\n",
    "divisible_by_4 = []\n",
    "\n",
    "for num in range(1, 21):\n",
    "    if num % 4 == 0:\n",
    "        divisible_by_4.append(num)\n",
    "\n",
    "print(divisible_by_4)\n"
   ]
  },
  {
   "cell_type": "code",
   "execution_count": 2,
   "id": "0f58631e-7bf4-4276-9be6-ba4d60b9a757",
   "metadata": {},
   "outputs": [
    {
     "name": "stdout",
     "output_type": "stream",
     "text": [
      "[10, 3, 7, 15]\n"
     ]
    }
   ],
   "source": [
    "# Q2\n",
    "\n",
    "def is_positive(num):\n",
    "    return num > 0\n",
    "numbers = [10, -5, 3, -2, 7, -8, 0, 15, -1]\n",
    "positive_numbers = list(filter(is_positive, numbers))\n",
    "\n",
    "print(positive_numbers)\n"
   ]
  },
  {
   "cell_type": "code",
   "execution_count": 6,
   "id": "401e59ad-2776-41ba-94c3-b9a5474d7740",
   "metadata": {},
   "outputs": [
    {
     "name": "stdout",
     "output_type": "stream",
     "text": [
      "['hello', 'world', 'namaskar🙏🏼']\n"
     ]
    }
   ],
   "source": [
    "# Q3\n",
    "\n",
    "def to_lowercase(s):\n",
    "    return s.lower()\n",
    "strings = [\"HELLO\", \"WORLD\", \"NAMASKAR🙏🏼\"]\n",
    "\n",
    "lowercase_strings = list(map(to_lowercase, strings))\n",
    "\n",
    "print(lowercase_strings)\n"
   ]
  },
  {
   "cell_type": "code",
   "execution_count": 9,
   "id": "ca229228-0c1d-447a-8ba6-127646116c81",
   "metadata": {},
   "outputs": [
    {
     "name": "stdin",
     "output_type": "stream",
     "text": [
      "Enter numbers separated by spaces:  30 24 34 12 56\n"
     ]
    },
    {
     "name": "stdout",
     "output_type": "stream",
     "text": [
      "The largest number in the list is: 56\n"
     ]
    }
   ],
   "source": [
    "# Q4\n",
    "\n",
    "from functools import reduce\n",
    "\n",
    "def find_max(x, y):\n",
    "    return x if x > y else y\n",
    "input_numbers = input(\"Enter numbers separated by spaces: \")\n",
    "numbers = list(map(int, input_numbers.split()))\n",
    "largest_number = reduce(find_max, numbers)\n",
    "\n",
    "print(\"The largest number in the list is:\", largest_number)\n"
   ]
  },
  {
   "cell_type": "code",
   "execution_count": 10,
   "id": "e4b626b1-be36-492d-b767-f7883cfca466",
   "metadata": {},
   "outputs": [
    {
     "name": "stdin",
     "output_type": "stream",
     "text": [
      "Enter the radius of the circle:  5\n"
     ]
    },
    {
     "name": "stdout",
     "output_type": "stream",
     "text": [
      "The area of the circle is: 78.53981633974483\n",
      "The circumference of the circle is: 31.41592653589793\n"
     ]
    }
   ],
   "source": [
    "# Q5\n",
    "\n",
    "import math\n",
    "\n",
    "def circle_properties(radius):\n",
    "    area = math.pi * radius ** 2  \n",
    "    circumference = 2 * math.pi * radius\n",
    "    return area, circumference\n",
    "\n",
    "radius = float(input(\"Enter the radius of the circle: \"))\n",
    "\n",
    "area, circumference = circle_properties(radius)\n",
    "print(f\"The area of the circle is: {area}\")\n",
    "print(f\"The circumference of the circle is: {circumference}\")\n"
   ]
  },
  {
   "cell_type": "code",
   "execution_count": 16,
   "id": "6c877ae7-680c-41d0-a20b-25740c388c70",
   "metadata": {},
   "outputs": [
    {
     "name": "stdin",
     "output_type": "stream",
     "text": [
      "Enter numbers separated by spaces:  12 11 23 34 31\n",
      "Enter the number to search for:  11\n"
     ]
    },
    {
     "name": "stdout",
     "output_type": "stream",
     "text": [
      "Number 11 found at index 0\n"
     ]
    }
   ],
   "source": [
    "# Q6\n",
    "\n",
    "def binary_search(arr, target):\n",
    "    low, high = 0, len(arr) - 1\n",
    "    while low <= high:\n",
    "        mid = (low + high) // 2\n",
    "        if arr[mid] == target:\n",
    "            return mid\n",
    "        elif arr[mid] < target:\n",
    "            low = mid + 1\n",
    "        else:\n",
    "            high = mid - 1\n",
    "    return -1\n",
    "\n",
    "numbers = list(map(int, input(\"Enter numbers separated by spaces: \").split()))\n",
    "target = int(input(\"Enter the number to search for: \"))\n",
    "\n",
    "numbers.sort()\n",
    "result = binary_search(numbers, target)\n",
    "\n",
    "print(f\"Number {target} found at index {result}\" if result != -1 else f\"Number {target} not found.\")\n"
   ]
  },
  {
   "cell_type": "code",
   "execution_count": 11,
   "id": "38701de8-c497-4b59-8def-8d59e797395f",
   "metadata": {},
   "outputs": [
    {
     "name": "stdin",
     "output_type": "stream",
     "text": [
      "Enter numbers separated by spaces:  12 23 30 24 34\n",
      "Enter the number to search for:  23\n"
     ]
    },
    {
     "name": "stdout",
     "output_type": "stream",
     "text": [
      "Number 23 found at index 1.\n"
     ]
    }
   ],
   "source": [
    "# Q7\n",
    "\n",
    "def sequential_search(arr, target):\n",
    "    for i in range(len(arr)):\n",
    "        if arr[i] == target:\n",
    "            return i \n",
    "    return -1 \n",
    "numbers = list(map(int, input(\"Enter numbers separated by spaces: \").split()))\n",
    "target = int(input(\"Enter the number to search for: \"))\n",
    "result = sequential_search(numbers, target)\n",
    "\n",
    "if result != -1:\n",
    "    print(f\"Number {target} found at index {result}.\")\n",
    "else:\n",
    "    print(f\"Number {target} not found in the list.\")\n"
   ]
  },
  {
   "cell_type": "code",
   "execution_count": 13,
   "id": "0e2d2faf-2c1c-4e08-9ded-f51642de7e3b",
   "metadata": {},
   "outputs": [
    {
     "name": "stdin",
     "output_type": "stream",
     "text": [
      "Enter sorted numbers separated by spaces:  12 23 45 56 68\n",
      "Enter the number to search for:  45\n"
     ]
    },
    {
     "name": "stdout",
     "output_type": "stream",
     "text": [
      "Number 45 found at index 2.\n"
     ]
    }
   ],
   "source": [
    "# Q8\n",
    "\n",
    "def binary_search(arr, target):\n",
    "    low, high = 0, len(arr) - 1 \n",
    "    while low <= high:\n",
    "        mid = (low + high) // 2 \n",
    "        if arr[mid] == target:\n",
    "            return mid \n",
    "        elif arr[mid] < target:\n",
    "            low = mid + 1 \n",
    "        else:\n",
    "            high = mid - 1  \n",
    "    return -1 \n",
    "\n",
    "numbers = list(map(int, input(\"Enter sorted numbers separated by spaces: \").split()))\n",
    "target = int(input(\"Enter the number to search for: \"))\n",
    "\n",
    "result = binary_search(numbers, target)\n",
    "\n",
    "if result != -1:\n",
    "    print(f\"Number {target} found at index {result}.\")\n",
    "else:\n",
    "    print(f\"Number {target} not found in the list.\")\n"
   ]
  },
  {
   "cell_type": "code",
   "execution_count": 17,
   "id": "f4c9516b-f3b8-457e-800f-2a1ff4525be4",
   "metadata": {},
   "outputs": [
    {
     "name": "stdin",
     "output_type": "stream",
     "text": [
      "Enter sorted numbers:  11 23 56 78 89\n",
      "Enter target:  56\n"
     ]
    },
    {
     "name": "stdout",
     "output_type": "stream",
     "text": [
      "Number 56 found at index 2\n"
     ]
    }
   ],
   "source": [
    "# Q9\n",
    "\n",
    "import math\n",
    "\n",
    "def jump_search(arr, target):\n",
    "    n = len(arr)\n",
    "    step = int(math.sqrt(n)) \n",
    "    prev = 0\n",
    "    \n",
    "    while arr[min(step, n) - 1] < target:\n",
    "        prev = step\n",
    "        step += int(math.sqrt(n))\n",
    "        if prev >= n:\n",
    "            return -1 \n",
    "    \n",
    "    for i in range(prev, min(step, n)):\n",
    "        if arr[i] == target:\n",
    "            return i \n",
    "    \n",
    "    return -1 \n",
    "    \n",
    "numbers = list(map(int, input(\"Enter sorted numbers: \").split()))\n",
    "target = int(input(\"Enter target: \"))\n",
    "\n",
    "result = jump_search(numbers, target)\n",
    "print(f\"Number {target} found at index {result}\" if result != -1 else f\"Number {target} not found.\")\n"
   ]
  },
  {
   "cell_type": "code",
   "execution_count": 19,
   "id": "348027cc-5ff1-48b0-b4a2-59bd61ea1794",
   "metadata": {},
   "outputs": [
    {
     "name": "stdin",
     "output_type": "stream",
     "text": [
      "Enter sorted numbers separated by spaces:  11 12 15 67\n",
      "Enter the number to search for:  11\n"
     ]
    },
    {
     "name": "stdout",
     "output_type": "stream",
     "text": [
      "Number 11 found at index 0.\n"
     ]
    }
   ],
   "source": [
    "# Q10\n",
    "\n",
    "def interpolation_search(arr, target):\n",
    "    low = 0\n",
    "    high = len(arr) - 1\n",
    "\n",
    "    while low <= high and target >= arr[low] and target <= arr[high]:\n",
    "        pos = low + ((target - arr[low]) * (high - low)) // (arr[high] - arr[low])\n",
    "        if arr[pos] == target:\n",
    "            return pos\n",
    "        if arr[pos] > target:\n",
    "            high = pos - 1\n",
    "        else:\n",
    "            low = pos + 1\n",
    "    return -1 \n",
    "numbers = list(map(int, input(\"Enter sorted numbers separated by spaces: \").split()))\n",
    "target = int(input(\"Enter the number to search for: \"))\n",
    "result = interpolation_search(numbers, target)\n",
    "\n",
    "if result != -1:\n",
    "    print(f\"Number {target} found at index {result}.\")\n",
    "else:\n",
    "    print(f\"Number {target} not found in the list.\")\n"
   ]
  },
  {
   "cell_type": "code",
   "execution_count": null,
   "id": "4e85181d-f988-4ecd-90f5-9ea247479adb",
   "metadata": {},
   "outputs": [],
   "source": []
  }
 ],
 "metadata": {
  "kernelspec": {
   "display_name": "Python [conda env:base] *",
   "language": "python",
   "name": "conda-base-py"
  },
  "language_info": {
   "codemirror_mode": {
    "name": "ipython",
    "version": 3
   },
   "file_extension": ".py",
   "mimetype": "text/x-python",
   "name": "python",
   "nbconvert_exporter": "python",
   "pygments_lexer": "ipython3",
   "version": "3.12.7"
  }
 },
 "nbformat": 4,
 "nbformat_minor": 5
}
